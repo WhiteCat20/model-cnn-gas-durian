{
 "cells": [
  {
   "cell_type": "code",
   "execution_count": 12,
   "metadata": {},
   "outputs": [],
   "source": [
    "import matplotlib.pyplot as plt\n",
    "import numpy as np\n",
    "import tensorflow as tf\n",
    "from tensorflow.keras.preprocessing import image "
   ]
  },
  {
   "cell_type": "code",
   "execution_count": 13,
   "metadata": {},
   "outputs": [],
   "source": [
    "model = tf.keras.models.load_model('saved model/Conv3-Gas.h5')"
   ]
  },
  {
   "cell_type": "code",
   "execution_count": 14,
   "metadata": {},
   "outputs": [
    {
     "data": {
      "text/plain": [
       "<matplotlib.image.AxesImage at 0x1950a8665d0>"
      ]
     },
     "execution_count": 14,
     "metadata": {},
     "output_type": "execute_result"
    },
    {
     "data": {
      "image/png": "[encoded data removed]",
      "text/plain": [
       "<Figure size 640x480 with 1 Axes>"
      ]
     },
     "metadata": {},
     "output_type": "display_data"
    }
   ],
   "source": [
    "test_image_path = \"resized_images/unripe_12.jpg\"\n",
    "# test_image_path = \"resized_images/ripe_5.jpg\"\n",
    "img = image.load_img(test_image_path)\n",
    "plt.imshow(img)"
   ]
  },
  {
   "cell_type": "code",
   "execution_count": 18,
   "metadata": {},
   "outputs": [
    {
     "data": {
      "text/plain": [
       "array([[[38., 13., 81.],\n",
       "        [38., 13., 81.],\n",
       "        [38., 13., 81.],\n",
       "        ...,\n",
       "        [38., 13., 81.],\n",
       "        [38., 13., 81.],\n",
       "        [38., 13., 81.]],\n",
       "\n",
       "       [[38., 13., 81.],\n",
       "        [38., 13., 81.],\n",
       "        [38., 13., 81.],\n",
       "        ...,\n",
       "        [38., 13., 81.],\n",
       "        [38., 13., 81.],\n",
       "        [38., 13., 81.]],\n",
       "\n",
       "       [[38., 13., 81.],\n",
       "        [38., 13., 81.],\n",
       "        [38., 13., 81.],\n",
       "        ...,\n",
       "        [38., 13., 81.],\n",
       "        [38., 13., 81.],\n",
       "        [38., 13., 81.]],\n",
       "\n",
       "       ...,\n",
       "\n",
       "       [[38., 13., 81.],\n",
       "        [38., 13., 81.],\n",
       "        [38., 13., 81.],\n",
       "        ...,\n",
       "        [38., 13., 81.],\n",
       "        [38., 13., 81.],\n",
       "        [38., 13., 81.]],\n",
       "\n",
       "       [[38., 13., 81.],\n",
       "        [38., 13., 81.],\n",
       "        [38., 13., 81.],\n",
       "        ...,\n",
       "        [38., 13., 81.],\n",
       "        [38., 13., 81.],\n",
       "        [38., 13., 81.]],\n",
       "\n",
       "       [[38., 13., 81.],\n",
       "        [38., 13., 81.],\n",
       "        [38., 13., 81.],\n",
       "        ...,\n",
       "        [38., 13., 81.],\n",
       "        [38., 13., 81.],\n",
       "        [38., 13., 81.]]], dtype=float32)"
      ]
     },
     "execution_count": 18,
     "metadata": {},
     "output_type": "execute_result"
    }
   ],
   "source": [
    "# Convert the image to a numpy array\n",
    "X = image.img_to_array(img)\n",
    "X = np.expand_dims(X, axis=0)"
   ]
  },
  {
   "cell_type": "code",
   "execution_count": 16,
   "metadata": {},
   "outputs": [
    {
     "name": "stdout",
     "output_type": "stream",
     "text": [
      "1/1 [==============================] - 0s 405ms/step\n"
     ]
    },
    {
     "data": {
      "text/plain": [
       "0.0"
      ]
     },
     "execution_count": 16,
     "metadata": {},
     "output_type": "execute_result"
    }
   ],
   "source": [
    "# Make predictions\n",
    "val = model.predict(X)\n",
    "val[0][0]\n",
    "# # Define your threshold for classification\n",
    "# threshold = 1 # You can adjust this threshold as needed\n",
    "\n",
    "# # Check if the probability of unripe is below the threshold\n",
    "# if val[0][0] < threshold:\n",
    "#     print('ripe')\n",
    "# else:\n",
    "#     print('unripe')\n"
   ]
  }
 ],
 "metadata": {
  "kernelspec": {
   "display_name": "Python 3",
   "language": "python",
   "name": "python3"
  },
  "language_info": {
   "codemirror_mode": {
    "name": "ipython",
    "version": 3
   },
   "file_extension": ".py",
   "mimetype": "text/x-python",
   "name": "python",
   "nbconvert_exporter": "python",
   "pygments_lexer": "ipython3",
   "version": "3.11.5"
  }
 },
 "nbformat": 4,
 "nbformat_minor": 2
}
