{
 "cells": [
  {
   "cell_type": "code",
   "execution_count": 1,
   "metadata": {},
   "outputs": [],
   "source": [
    "import matplotlib.pyplot as plt\n",
    "import numpy as np\n",
    "import tensorflow as tf\n",
    "from tensorflow.keras.preprocessing import image \n",
    "import cv2\n",
    "import easygui\n"
   ]
  },
  {
   "cell_type": "code",
   "execution_count": 2,
   "metadata": {},
   "outputs": [],
   "source": [
    "model = tf.keras.models.load_model('saved_model/07052024-195006.keras')"
   ]
  },
  {
   "cell_type": "code",
   "execution_count": 46,
   "metadata": {},
   "outputs": [],
   "source": [
    "input_path = easygui.fileopenbox(title='Select Image File')\n",
    "# img = image.load_img(test_image_path)\n",
    "img = cv2.imread(str(input_path))\n",
    "img = cv2.resize(img,(200,200))"
   ]
  },
  {
   "cell_type": "code",
   "execution_count": 50,
   "metadata": {},
   "outputs": [],
   "source": [
    "# # Convert the image to a numpy array\n",
    "X = image.img_to_array(img)\n",
    "X = np.expand_dims(X, axis=0)"
   ]
  },
  {
   "cell_type": "code",
   "execution_count": 51,
   "metadata": {},
   "outputs": [
    {
     "name": "stdout",
     "output_type": "stream",
     "text": [
      "1/1 [==============================] - 0s 42ms/step\n",
      "unripe\n"
     ]
    }
   ],
   "source": [
    "# Make predictions\n",
    "val = model.predict(X)\n",
    "\n",
    "if val[0][0] == 1.0:\n",
    "    print('unripe')\n",
    "elif val[0][0] == 0 :\n",
    "    print('ripe')\n",
    "else :\n",
    "    print(val[0][0])\n",
    "\n",
    "# print(val[0][0])\n"
   ]
  }
 ],
 "metadata": {
  "kernelspec": {
   "display_name": "Python 3",
   "language": "python",
   "name": "python3"
  },
  "language_info": {
   "codemirror_mode": {
    "name": "ipython",
    "version": 3
   },
   "file_extension": ".py",
   "mimetype": "text/x-python",
   "name": "python",
   "nbconvert_exporter": "python",
   "pygments_lexer": "ipython3",
   "version": "3.11.5"
  }
 },
 "nbformat": 4,
 "nbformat_minor": 2
}
