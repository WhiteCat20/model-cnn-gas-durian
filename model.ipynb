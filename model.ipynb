{
 "cells": [
  {
   "cell_type": "code",
   "execution_count": 67,
   "metadata": {},
   "outputs": [],
   "source": [
    "import matplotlib.pyplot as plt\n",
    "import numpy as np\n",
    "import cv2\n",
    "import tensorflow as tf\n",
    "\n",
    "from tensorflow import keras\n",
    "from tensorflow.keras import layers\n",
    "from tensorflow.keras.models import Sequential\n",
    "from sklearn.metrics import confusion_matrix\n",
    "import seaborn as sns\n",
    "\n",
    "import pathlib\n",
    "from sklearn.model_selection import train_test_split"
   ]
  },
  {
   "cell_type": "code",
   "execution_count": 68,
   "metadata": {},
   "outputs": [
    {
     "data": {
      "text/plain": [
       "'datasets'"
      ]
     },
     "execution_count": 68,
     "metadata": {},
     "output_type": "execute_result"
    }
   ],
   "source": [
    "data_dir = 'datasets'\n",
    "data_dir"
   ]
  },
  {
   "cell_type": "code",
   "execution_count": 69,
   "metadata": {},
   "outputs": [
    {
     "data": {
      "text/plain": [
       "WindowsPath('datasets')"
      ]
     },
     "execution_count": 69,
     "metadata": {},
     "output_type": "execute_result"
    }
   ],
   "source": [
    "data_dir = pathlib.Path(data_dir)\n",
    "data_dir"
   ]
  },
  {
   "cell_type": "code",
   "execution_count": 70,
   "metadata": {},
   "outputs": [
    {
     "data": {
      "text/plain": [
       "[WindowsPath('datasets/ripe/heatmap_10_percobaan_1.png'),\n",
       " WindowsPath('datasets/ripe/heatmap_10_percobaan_2.png'),\n",
       " WindowsPath('datasets/ripe/heatmap_10_percobaan_3.png'),\n",
       " WindowsPath('datasets/ripe/heatmap_10_percobaan_4.png'),\n",
       " WindowsPath('datasets/ripe/heatmap_10_percobaan_5.png')]"
      ]
     },
     "execution_count": 70,
     "metadata": {},
     "output_type": "execute_result"
    }
   ],
   "source": [
    "list(data_dir.glob('*/*.png'))[:5]"
   ]
  },
  {
   "cell_type": "code",
   "execution_count": 71,
   "metadata": {},
   "outputs": [
    {
     "name": "stdout",
     "output_type": "stream",
     "text": [
      "75\n"
     ]
    }
   ],
   "source": [
    "image_count = len(list(data_dir.glob('*/*.png')))\n",
    "print(image_count)"
   ]
  },
  {
   "cell_type": "code",
   "execution_count": 72,
   "metadata": {},
   "outputs": [
    {
     "data": {
      "text/plain": [
       "[WindowsPath('datasets/ripe/heatmap_10_percobaan_1.png'),\n",
       " WindowsPath('datasets/ripe/heatmap_10_percobaan_2.png'),\n",
       " WindowsPath('datasets/ripe/heatmap_10_percobaan_3.png'),\n",
       " WindowsPath('datasets/ripe/heatmap_10_percobaan_4.png'),\n",
       " WindowsPath('datasets/ripe/heatmap_10_percobaan_5.png')]"
      ]
     },
     "execution_count": 72,
     "metadata": {},
     "output_type": "execute_result"
    }
   ],
   "source": [
    "ripes = list(data_dir.glob('ripe/*png'))\n",
    "ripes[:5]"
   ]
  },
  {
   "cell_type": "code",
   "execution_count": 73,
   "metadata": {},
   "outputs": [],
   "source": [
    "durian_heatmap_dict = {\n",
    "  'ripe' : list(data_dir.glob('ripe/*')),\n",
    "   'unripe' : list(data_dir.glob('unripe/*')),\n",
    "}\n",
    "\n",
    "durian_labels_dict = {\n",
    "    'ripe' : 0,\n",
    "    'unripe' : 1\n",
    "}"
   ]
  },
  {
   "cell_type": "code",
   "execution_count": 74,
   "metadata": {},
   "outputs": [
    {
     "data": {
      "text/plain": [
       "[WindowsPath('datasets/ripe/heatmap_10_percobaan_1.png'),\n",
       " WindowsPath('datasets/ripe/heatmap_10_percobaan_2.png'),\n",
       " WindowsPath('datasets/ripe/heatmap_10_percobaan_3.png'),\n",
       " WindowsPath('datasets/ripe/heatmap_10_percobaan_4.png'),\n",
       " WindowsPath('datasets/ripe/heatmap_10_percobaan_5.png')]"
      ]
     },
     "execution_count": 74,
     "metadata": {},
     "output_type": "execute_result"
    }
   ],
   "source": [
    "durian_heatmap_dict['ripe'][:5]"
   ]
  },
  {
   "cell_type": "code",
   "execution_count": 75,
   "metadata": {},
   "outputs": [
    {
     "data": {
      "text/plain": [
       "'datasets\\\\ripe\\\\heatmap_10_percobaan_1.png'"
      ]
     },
     "execution_count": 75,
     "metadata": {},
     "output_type": "execute_result"
    }
   ],
   "source": [
    "str(durian_heatmap_dict['ripe'][0])"
   ]
  },
  {
   "cell_type": "code",
   "execution_count": 76,
   "metadata": {},
   "outputs": [
    {
     "data": {
      "text/plain": [
       "(200, 200, 3)"
      ]
     },
     "execution_count": 76,
     "metadata": {},
     "output_type": "execute_result"
    }
   ],
   "source": [
    "img = cv2.imread(str(durian_heatmap_dict['ripe'][0]))\n",
    "resized_img = cv2.resize(img,(200,200))\n",
    "resized_img.shape"
   ]
  },
  {
   "cell_type": "code",
   "execution_count": 77,
   "metadata": {},
   "outputs": [],
   "source": [
    "X, y = [], []\n",
    "\n",
    "output_folder = \"resized_images\"\n",
    "\n",
    "for durian_ripeness, images in durian_heatmap_dict.items():\n",
    "    for index, image in enumerate(images):\n",
    "        img = cv2.imread(str(image))\n",
    "        resized_img = cv2.resize(img,(200,200))\n",
    "        X.append(resized_img)\n",
    "        y.append(durian_labels_dict[durian_ripeness])\n",
    "        \n",
    "        # Uncomment if you want to check all the resized images\n",
    "        # output_name = f\"{durian_ripeness}_{index}.jpg\"\n",
    "        # output_path = os.path.join(output_folder, output_name)\n",
    "        # cv2.imwrite(output_path, resized_img)"
   ]
  },
  {
   "cell_type": "code",
   "execution_count": 78,
   "metadata": {},
   "outputs": [],
   "source": [
    "X = np.array(X)\n",
    "y = np.array(y)\n",
    "from sklearn.model_selection import train_test_split\n",
    "X_train, X_test, y_train, y_test = train_test_split(X, y, random_state=0)"
   ]
  },
  {
   "cell_type": "code",
   "execution_count": 79,
   "metadata": {},
   "outputs": [
    {
     "name": "stdout",
     "output_type": "stream",
     "text": [
      "Model: \"sequential_4\"\n",
      "_________________________________________________________________\n",
      " Layer (type)                Output Shape              Param #   \n",
      "=================================================================\n",
      " conv2d_12 (Conv2D)          (None, 198, 198, 16)      448       \n",
      "                                                                 \n",
      " max_pooling2d_12 (MaxPooli  (None, 99, 99, 16)        0         \n",
      " ng2D)                                                           \n",
      "                                                                 \n",
      " dropout_28 (Dropout)        (None, 99, 99, 16)        0         \n",
      "                                                                 \n",
      " conv2d_13 (Conv2D)          (None, 97, 97, 32)        4640      \n",
      "                                                                 \n",
      " max_pooling2d_13 (MaxPooli  (None, 48, 48, 32)        0         \n",
      " ng2D)                                                           \n",
      "                                                                 \n",
      " dropout_29 (Dropout)        (None, 48, 48, 32)        0         \n",
      "                                                                 \n",
      " conv2d_14 (Conv2D)          (None, 46, 46, 64)        18496     \n",
      "                                                                 \n",
      " max_pooling2d_14 (MaxPooli  (None, 23, 23, 64)        0         \n",
      " ng2D)                                                           \n",
      "                                                                 \n",
      " dropout_30 (Dropout)        (None, 23, 23, 64)        0         \n",
      "                                                                 \n",
      " flatten_4 (Flatten)         (None, 33856)             0         \n",
      "                                                                 \n",
      " dense_20 (Dense)            (None, 512)               17334784  \n",
      "                                                                 \n",
      " dropout_31 (Dropout)        (None, 512)               0         \n",
      "                                                                 \n",
      " dense_21 (Dense)            (None, 128)               65664     \n",
      "                                                                 \n",
      " dropout_32 (Dropout)        (None, 128)               0         \n",
      "                                                                 \n",
      " dense_22 (Dense)            (None, 64)                8256      \n",
      "                                                                 \n",
      " dropout_33 (Dropout)        (None, 64)                0         \n",
      "                                                                 \n",
      " dense_23 (Dense)            (None, 8)                 520       \n",
      "                                                                 \n",
      " dropout_34 (Dropout)        (None, 8)                 0         \n",
      "                                                                 \n",
      " dense_24 (Dense)            (None, 1)                 9         \n",
      "                                                                 \n",
      "=================================================================\n",
      "Total params: 17432817 (66.50 MB)\n",
      "Trainable params: 17432817 (66.50 MB)\n",
      "Non-trainable params: 0 (0.00 Byte)\n",
      "_________________________________________________________________\n"
     ]
    }
   ],
   "source": [
    "convDim = 3\n",
    "model = tf.keras.models.Sequential([\n",
    "    tf.keras.layers.Conv2D(16, (convDim,convDim), activation='relu', input_shape=(200,200,3)),\n",
    "    tf.keras.layers.MaxPool2D(2,2),\n",
    "    tf.keras.layers.Dropout(0.25),  # Add dropout layer\n",
    "    tf.keras.layers.Conv2D(32, (convDim,convDim), activation='relu'),\n",
    "    tf.keras.layers.MaxPool2D(2,2),\n",
    "    tf.keras.layers.Dropout(0.25),  # Add dropout layer\n",
    "    tf.keras.layers.Conv2D(64, (convDim,convDim), activation='relu'),\n",
    "    tf.keras.layers.MaxPool2D(2,2),\n",
    "    tf.keras.layers.Dropout(0.2),  # Add dropout layer\n",
    "    tf.keras.layers.Flatten(),\n",
    "    tf.keras.layers.Dense(512, activation='relu'),\n",
    "    tf.keras.layers.Dropout(0.25),  # Add dropout layer\n",
    "    tf.keras.layers.Dense(128, activation='relu'),\n",
    "    tf.keras.layers.Dropout(0.25),  # Add dropout layer\n",
    "    tf.keras.layers.Dense(64, activation='relu'),\n",
    "    tf.keras.layers.Dropout(0.25),  # Add dropout layer\n",
    "    tf.keras.layers.Dense(8, activation='relu'),    \n",
    "    tf.keras.layers.Dropout(0.25),  # Add dropout layer\n",
    "    tf.keras.layers.Dense(1, activation='sigmoid')\n",
    "])\n",
    "model.compile(loss='binary_crossentropy', optimizer='adam', metrics=['accuracy'])\n",
    "model.summary()"
   ]
  },
  {
   "cell_type": "code",
   "execution_count": 80,
   "metadata": {},
   "outputs": [
    {
     "name": "stdout",
     "output_type": "stream",
     "text": [
      "Epoch 1/50\n"
     ]
    },
    {
     "name": "stdout",
     "output_type": "stream",
     "text": [
      "2/2 [==============================] - 7s 2s/step - loss: 30.1433 - accuracy: 0.5357 - val_loss: 4.0111 - val_accuracy: 0.3684\n",
      "Epoch 2/50\n",
      "2/2 [==============================] - 3s 1s/step - loss: 35.0932 - accuracy: 0.5714 - val_loss: 0.6919 - val_accuracy: 0.6316\n",
      "Epoch 3/50\n",
      "2/2 [==============================] - 3s 1s/step - loss: 17.2525 - accuracy: 0.5179 - val_loss: 0.6620 - val_accuracy: 0.7895\n",
      "Epoch 4/50\n",
      "2/2 [==============================] - 3s 1s/step - loss: 8.4986 - accuracy: 0.6071 - val_loss: 0.5816 - val_accuracy: 0.9474\n",
      "Epoch 5/50\n",
      "2/2 [==============================] - 2s 1s/step - loss: 3.2892 - accuracy: 0.5536 - val_loss: 0.5444 - val_accuracy: 1.0000\n",
      "Epoch 6/50\n",
      "2/2 [==============================] - 2s 1s/step - loss: 1.2510 - accuracy: 0.5893 - val_loss: 0.5374 - val_accuracy: 1.0000\n",
      "Epoch 7/50\n",
      "2/2 [==============================] - 2s 1s/step - loss: 1.2577 - accuracy: 0.5179 - val_loss: 0.5223 - val_accuracy: 1.0000\n",
      "Epoch 8/50\n",
      "2/2 [==============================] - 2s 1s/step - loss: 1.5441 - accuracy: 0.5714 - val_loss: 0.5338 - val_accuracy: 1.0000\n",
      "Epoch 9/50\n",
      "2/2 [==============================] - 2s 1s/step - loss: 0.4514 - accuracy: 0.8036 - val_loss: 0.5217 - val_accuracy: 1.0000\n",
      "Epoch 10/50\n",
      "2/2 [==============================] - 2s 1s/step - loss: 0.4817 - accuracy: 0.7321 - val_loss: 0.5251 - val_accuracy: 1.0000\n",
      "Epoch 11/50\n",
      "2/2 [==============================] - 2s 1s/step - loss: 0.3278 - accuracy: 0.7679 - val_loss: 0.5223 - val_accuracy: 1.0000\n",
      "Epoch 12/50\n",
      "2/2 [==============================] - 2s 1s/step - loss: 0.4079 - accuracy: 0.8393 - val_loss: 0.5242 - val_accuracy: 1.0000\n",
      "Epoch 13/50\n",
      "2/2 [==============================] - 2s 1s/step - loss: 0.3906 - accuracy: 0.7857 - val_loss: 0.5220 - val_accuracy: 1.0000\n",
      "Epoch 14/50\n",
      "2/2 [==============================] - 2s 1s/step - loss: 0.4118 - accuracy: 0.7143 - val_loss: 0.5216 - val_accuracy: 1.0000\n",
      "Epoch 15/50\n",
      "2/2 [==============================] - 2s 1s/step - loss: 0.3176 - accuracy: 0.8929 - val_loss: 0.5156 - val_accuracy: 1.0000\n",
      "Epoch 16/50\n",
      "2/2 [==============================] - 2s 1s/step - loss: 0.3324 - accuracy: 0.8750 - val_loss: 0.4997 - val_accuracy: 1.0000\n",
      "Epoch 17/50\n",
      "2/2 [==============================] - 2s 1s/step - loss: 0.2414 - accuracy: 0.9286 - val_loss: 0.4631 - val_accuracy: 1.0000\n",
      "Epoch 18/50\n",
      "2/2 [==============================] - 3s 1s/step - loss: 0.2598 - accuracy: 0.9107 - val_loss: 0.4112 - val_accuracy: 1.0000\n",
      "Epoch 19/50\n",
      "2/2 [==============================] - 3s 1s/step - loss: 0.1837 - accuracy: 0.9286 - val_loss: 0.3581 - val_accuracy: 0.9474\n",
      "Epoch 20/50\n",
      "2/2 [==============================] - 3s 1s/step - loss: 0.1639 - accuracy: 0.9464 - val_loss: 0.3095 - val_accuracy: 0.8947\n",
      "Epoch 21/50\n",
      "2/2 [==============================] - 2s 1s/step - loss: 0.1891 - accuracy: 0.9464 - val_loss: 0.2552 - val_accuracy: 0.9474\n",
      "Epoch 22/50\n",
      "2/2 [==============================] - 2s 1s/step - loss: 0.1289 - accuracy: 0.9821 - val_loss: 0.1877 - val_accuracy: 1.0000\n",
      "Epoch 23/50\n",
      "2/2 [==============================] - 2s 1s/step - loss: 0.1041 - accuracy: 0.9643 - val_loss: 0.1448 - val_accuracy: 1.0000\n",
      "Epoch 24/50\n",
      "2/2 [==============================] - 2s 1s/step - loss: 0.1873 - accuracy: 0.8929 - val_loss: 0.1037 - val_accuracy: 1.0000\n",
      "Epoch 25/50\n",
      "2/2 [==============================] - 2s 1s/step - loss: 0.1315 - accuracy: 0.9107 - val_loss: 0.0659 - val_accuracy: 1.0000\n",
      "Epoch 26/50\n",
      "2/2 [==============================] - 3s 2s/step - loss: 0.1371 - accuracy: 0.9107 - val_loss: 0.0448 - val_accuracy: 1.0000\n",
      "Epoch 27/50\n",
      "2/2 [==============================] - 3s 2s/step - loss: 0.0596 - accuracy: 0.9643 - val_loss: 0.0358 - val_accuracy: 1.0000\n",
      "Epoch 28/50\n",
      "2/2 [==============================] - 3s 1s/step - loss: 0.1419 - accuracy: 0.9643 - val_loss: 0.0228 - val_accuracy: 1.0000\n",
      "Epoch 29/50\n",
      "2/2 [==============================] - 3s 1s/step - loss: 0.2374 - accuracy: 0.9643 - val_loss: 0.0198 - val_accuracy: 1.0000\n",
      "Epoch 30/50\n",
      "2/2 [==============================] - 3s 1s/step - loss: 0.0866 - accuracy: 0.9643 - val_loss: 0.0238 - val_accuracy: 1.0000\n",
      "Epoch 31/50\n",
      "2/2 [==============================] - 3s 1s/step - loss: 0.1310 - accuracy: 0.9821 - val_loss: 0.0366 - val_accuracy: 1.0000\n",
      "Epoch 32/50\n",
      "2/2 [==============================] - 3s 1s/step - loss: 0.1179 - accuracy: 0.9643 - val_loss: 0.0780 - val_accuracy: 1.0000\n",
      "Epoch 33/50\n",
      "2/2 [==============================] - 3s 1s/step - loss: 0.0342 - accuracy: 1.0000 - val_loss: 0.1224 - val_accuracy: 1.0000\n",
      "Epoch 34/50\n",
      "2/2 [==============================] - 3s 1s/step - loss: 0.0631 - accuracy: 0.9643 - val_loss: 0.1416 - val_accuracy: 1.0000\n",
      "Epoch 35/50\n",
      "2/2 [==============================] - 3s 1s/step - loss: 0.1285 - accuracy: 0.9286 - val_loss: 0.1085 - val_accuracy: 1.0000\n",
      "Epoch 36/50\n",
      "2/2 [==============================] - 3s 1s/step - loss: 0.0486 - accuracy: 0.9643 - val_loss: 0.0692 - val_accuracy: 1.0000\n",
      "Epoch 37/50\n",
      "2/2 [==============================] - 3s 1s/step - loss: 0.0669 - accuracy: 0.9643 - val_loss: 0.0407 - val_accuracy: 1.0000\n",
      "Epoch 38/50\n",
      "2/2 [==============================] - 3s 1s/step - loss: 0.1141 - accuracy: 0.9464 - val_loss: 0.0288 - val_accuracy: 1.0000\n",
      "Epoch 39/50\n",
      "2/2 [==============================] - 3s 1s/step - loss: 0.0459 - accuracy: 0.9821 - val_loss: 0.0231 - val_accuracy: 1.0000\n",
      "Epoch 40/50\n",
      "2/2 [==============================] - 3s 1s/step - loss: 0.0722 - accuracy: 0.9464 - val_loss: 0.0167 - val_accuracy: 1.0000\n",
      "Epoch 41/50\n",
      "2/2 [==============================] - 3s 1s/step - loss: 0.1104 - accuracy: 0.9107 - val_loss: 0.0147 - val_accuracy: 1.0000\n",
      "Epoch 42/50\n",
      "2/2 [==============================] - 3s 1s/step - loss: 0.0037 - accuracy: 1.0000 - val_loss: 0.0151 - val_accuracy: 1.0000\n",
      "Epoch 43/50\n",
      "2/2 [==============================] - 3s 1s/step - loss: 0.0559 - accuracy: 0.9821 - val_loss: 0.0148 - val_accuracy: 1.0000\n",
      "Epoch 44/50\n",
      "2/2 [==============================] - 3s 1s/step - loss: 0.2260 - accuracy: 0.9643 - val_loss: 0.0176 - val_accuracy: 1.0000\n",
      "Epoch 45/50\n",
      "2/2 [==============================] - 3s 1s/step - loss: 0.1641 - accuracy: 0.9286 - val_loss: 0.0473 - val_accuracy: 1.0000\n",
      "Epoch 46/50\n",
      "2/2 [==============================] - 3s 1s/step - loss: 0.0515 - accuracy: 0.9643 - val_loss: 0.1064 - val_accuracy: 1.0000\n",
      "Epoch 47/50\n",
      "2/2 [==============================] - 3s 1s/step - loss: 0.0598 - accuracy: 0.9821 - val_loss: 0.1249 - val_accuracy: 1.0000\n",
      "Epoch 48/50\n",
      "2/2 [==============================] - 3s 1s/step - loss: 0.1246 - accuracy: 0.9643 - val_loss: 0.0838 - val_accuracy: 1.0000\n",
      "Epoch 49/50\n",
      "2/2 [==============================] - 3s 1s/step - loss: 0.0827 - accuracy: 0.9821 - val_loss: 0.0367 - val_accuracy: 1.0000\n",
      "Epoch 50/50\n",
      "2/2 [==============================] - 3s 1s/step - loss: 0.0415 - accuracy: 0.9821 - val_loss: 0.0173 - val_accuracy: 1.0000\n"
     ]
    }
   ],
   "source": [
    "EPOCH = 50\n",
    "BATCH_SIZE = 32\n",
    "model_fit = model.fit(X_train, y_train, epochs=EPOCH, validation_data=(X_test, y_test), batch_size=BATCH_SIZE) "
   ]
  },
  {
   "cell_type": "code",
   "execution_count": 81,
   "metadata": {},
   "outputs": [
    {
     "data": {
      "image/png": "[encoded data removed]",
      "text/plain": [
       "<Figure size 1200x600 with 2 Axes>"
      ]
     },
     "metadata": {},
     "output_type": "display_data"
    }
   ],
   "source": [
    "# Plot training and validation history\n",
    "plt.figure(figsize=(12, 6))\n",
    "\n",
    "# Plot training & validation accuracy values\n",
    "plt.subplot(1, 2, 1)\n",
    "plt.plot(model_fit.history['accuracy'])\n",
    "plt.plot(model_fit.history['val_accuracy'])  # Add validation accuracy\n",
    "plt.title('Model Accuracy')\n",
    "plt.xlabel('Epoch')\n",
    "plt.ylabel('Accuracy')\n",
    "plt.legend(['Train', 'Validation'], loc='upper left')\n",
    "\n",
    "# Plot training & validation loss values\n",
    "plt.subplot(1, 2, 2)\n",
    "plt.plot(model_fit.history['loss'])\n",
    "plt.plot(model_fit.history['val_loss'])  # Add validation loss\n",
    "plt.title('Model Loss')\n",
    "plt.xlabel('Epoch')\n",
    "plt.ylabel('Loss')\n",
    "plt.legend(['Train', 'Validation'], loc='upper left')\n",
    "\n",
    "plt.tight_layout()\n",
    "plt.show()"
   ]
  },
  {
   "cell_type": "code",
   "execution_count": 82,
   "metadata": {},
   "outputs": [
    {
     "name": "stdout",
     "output_type": "stream",
     "text": [
      "1/1 - 0s - loss: 0.0173 - accuracy: 1.0000 - 142ms/epoch - 142ms/step\n",
      "1.0\n"
     ]
    }
   ],
   "source": [
    "test_loss, test_acc = model.evaluate(X_test,  y_test, verbose=2)\n",
    "print(test_acc)"
   ]
  },
  {
   "cell_type": "code",
   "execution_count": 83,
   "metadata": {},
   "outputs": [
    {
     "name": "stdout",
     "output_type": "stream",
     "text": [
      "1/1 [==============================] - 0s 230ms/step\n"
     ]
    },
    {
     "data": {
      "image/png": "[encoded data removed]",
      "text/plain": [
       "<Figure size 800x600 with 2 Axes>"
      ]
     },
     "metadata": {},
     "output_type": "display_data"
    }
   ],
   "source": [
    "# Generate predictions on the test set\n",
    "y_pred = model.predict(X_test)\n",
    "y_pred_classes = (y_pred > 0.5).astype(int)  # Assuming it's a binary classification problem\n",
    "\n",
    "# Generate the confusion matrix\n",
    "conf_mat = confusion_matrix(y_test, y_pred_classes)\n",
    "\n",
    "# Plot the confusion matrix using seaborn\n",
    "plt.figure(figsize=(8, 6))\n",
    "sns.heatmap(conf_mat, annot=True, fmt='d', cmap='Blues', xticklabels=['Unripe', 'Ripe'], yticklabels=['Unripe', 'Ripe'])\n",
    "plt.title('Confusion Matrix')\n",
    "plt.xlabel('Predicted')\n",
    "plt.ylabel('True')\n",
    "plt.show()"
   ]
  },
  {
   "cell_type": "code",
   "execution_count": 85,
   "metadata": {},
   "outputs": [],
   "source": [
    "# save model to .keras file\n",
    "model.save(\"saved model/Conv3-Gas.keras\")"
   ]
  }
 ],
 "metadata": {
  "kernelspec": {
   "display_name": "Python 3",
   "language": "python",
   "name": "python3"
  },
  "language_info": {
   "codemirror_mode": {
    "name": "ipython",
    "version": 3
   },
   "file_extension": ".py",
   "mimetype": "text/x-python",
   "name": "python",
   "nbconvert_exporter": "python",
   "pygments_lexer": "ipython3",
   "version": "3.11.5"
  }
 },
 "nbformat": 4,
 "nbformat_minor": 2
}
